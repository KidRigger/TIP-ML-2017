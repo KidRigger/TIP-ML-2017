{
 "cells": [
  {
   "cell_type": "markdown",
   "metadata": {},
   "source": [
    "# TIP Assignment 1\n",
    "### Linear Regression numpy\n",
    "\n",
    "Submit on 27th"
   ]
  },
  {
   "cell_type": "code",
   "execution_count": 1,
   "metadata": {
    "collapsed": true
   },
   "outputs": [],
   "source": [
    "def linreg_cost(self,X,theta):\n",
    "    \"\"\"This function returns the cost for a linear regression model using numpy\"\"\"\n",
    "    # Write your cost calculating code here and return the cost and remove the pass statement\n",
    "    pass   #Remove this line"
   ]
  },
  {
   "cell_type": "code",
   "execution_count": null,
   "metadata": {
    "collapsed": true
   },
   "outputs": [],
   "source": [
    "def linreg_hypothesis(self,X,theta):\n",
    "    \"\"\"This is the hypothesis function for the linear regression model. It returns the hypotheses\"\"\"\n",
    "    pass   #Remove this line too"
   ]
  },
  {
   "cell_type": "code",
   "execution_count": null,
   "metadata": {
    "collapsed": true
   },
   "outputs": [],
   "source": [
    "def gradient(self,X,theta):\n",
    "    \"\"\"This function calculates and returns gradients\"\"\"\n",
    "    pass   #Needn't tell you again to delete this"
   ]
  },
  {
   "cell_type": "code",
   "execution_count": null,
   "metadata": {
    "collapsed": true
   },
   "outputs": [],
   "source": [
    "def fit(trainX, trainY, theta, epochs):\n",
    "    \"\"\"Train for the parameter number of epochs and returns the weight\"\"\"\n",
    "    pass   #Duh."
   ]
  },
  {
   "cell_type": "code",
   "execution_count": null,
   "metadata": {
    "collapsed": true
   },
   "outputs": [],
   "source": [
    "# Do your stuff"
   ]
  }
 ],
 "metadata": {
  "kernelspec": {
   "display_name": "Python 3",
   "language": "python",
   "name": "python3"
  },
  "language_info": {
   "codemirror_mode": {
    "name": "ipython",
    "version": 3
   },
   "file_extension": ".py",
   "mimetype": "text/x-python",
   "name": "python",
   "nbconvert_exporter": "python",
   "pygments_lexer": "ipython3",
   "version": "3.6.1"
  }
 },
 "nbformat": 4,
 "nbformat_minor": 2
}
